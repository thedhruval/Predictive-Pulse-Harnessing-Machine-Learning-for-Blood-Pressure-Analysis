{
  "nbformat": 4,
  "nbformat_minor": 0,
  "metadata": {
    "colab": {
      "provenance": []
    },
    "kernelspec": {
      "name": "python3",
      "display_name": "Python 3"
    },
    "language_info": {
      "name": "python"
    }
  },
  "cells": [
    {
      "cell_type": "markdown",
      "source": [
        "# M1 A2"
      ],
      "metadata": {
        "id": "Sxz22BO6Gx4S"
      }
    },
    {
      "cell_type": "code",
      "execution_count": null,
      "metadata": {
        "id": "HjLlRu7YLsiz"
      },
      "outputs": [],
      "source": [
        "import pandas as pd\n",
        "import numpy as np\n",
        "import matplotlib.pyplot as plt\n",
        "import seaborn as sns"
      ]
    },
    {
      "cell_type": "markdown",
      "source": [
        "# M1A3"
      ],
      "metadata": {
        "id": "GU8_EYXLIsXo"
      }
    },
    {
      "cell_type": "code",
      "source": [
        "df = pd.read_csv('patient_data.csv')"
      ],
      "metadata": {
        "id": "jk4lf26eHO1K"
      },
      "execution_count": null,
      "outputs": []
    },
    {
      "cell_type": "code",
      "source": [
        "df.head()"
      ],
      "metadata": {
        "colab": {
          "base_uri": "https://localhost:8080/",
          "height": 313
        },
        "id": "417qOiVZHzju",
        "outputId": "0f2a9af7-f192-4f38-eeeb-95423b1e8001"
      },
      "execution_count": null,
      "outputs": [
        {
          "output_type": "execute_result",
          "data": {
            "text/plain": [
              "        C    Age History Patient TakeMedication Severity BreathShortness  \\\n",
              "0    Male  18-34     Yes      No             No     Mild              No   \n",
              "1  Female  18-34     Yes      No             No     Mild              No   \n",
              "2    Male  35-50     Yes      No             No     Mild              No   \n",
              "3  Female  35-50     Yes      No             No     Mild              No   \n",
              "4    Male  51-64     Yes      No             No     Mild              No   \n",
              "\n",
              "  VisualChanges NoseBleeding Whendiagnoused   Systolic Diastolic  \\\n",
              "0            No          No         <1 Year  111 - 120   81 - 90   \n",
              "1            No          No         <1 Year  111 - 120   81 - 90   \n",
              "2            No          No         <1 Year  111 - 120   81 - 90   \n",
              "3            No          No         <1 Year  111 - 120   81 - 90   \n",
              "4            No          No         <1 Year  111 - 120   81 - 90   \n",
              "\n",
              "  ControlledDiet                  Stages  \n",
              "0             No  HYPERTENSION (Stage-1)  \n",
              "1             No  HYPERTENSION (Stage-1)  \n",
              "2             No  HYPERTENSION (Stage-1)  \n",
              "3             No  HYPERTENSION (Stage-1)  \n",
              "4             No  HYPERTENSION (Stage-1)  "
            ],
            "text/html": [
              "\n",
              "  <div id=\"df-b27ee697-0e6a-4800-bfd5-bad2aea3e091\" class=\"colab-df-container\">\n",
              "    <div>\n",
              "<style scoped>\n",
              "    .dataframe tbody tr th:only-of-type {\n",
              "        vertical-align: middle;\n",
              "    }\n",
              "\n",
              "    .dataframe tbody tr th {\n",
              "        vertical-align: top;\n",
              "    }\n",
              "\n",
              "    .dataframe thead th {\n",
              "        text-align: right;\n",
              "    }\n",
              "</style>\n",
              "<table border=\"1\" class=\"dataframe\">\n",
              "  <thead>\n",
              "    <tr style=\"text-align: right;\">\n",
              "      <th></th>\n",
              "      <th>C</th>\n",
              "      <th>Age</th>\n",
              "      <th>History</th>\n",
              "      <th>Patient</th>\n",
              "      <th>TakeMedication</th>\n",
              "      <th>Severity</th>\n",
              "      <th>BreathShortness</th>\n",
              "      <th>VisualChanges</th>\n",
              "      <th>NoseBleeding</th>\n",
              "      <th>Whendiagnoused</th>\n",
              "      <th>Systolic</th>\n",
              "      <th>Diastolic</th>\n",
              "      <th>ControlledDiet</th>\n",
              "      <th>Stages</th>\n",
              "    </tr>\n",
              "  </thead>\n",
              "  <tbody>\n",
              "    <tr>\n",
              "      <th>0</th>\n",
              "      <td>Male</td>\n",
              "      <td>18-34</td>\n",
              "      <td>Yes</td>\n",
              "      <td>No</td>\n",
              "      <td>No</td>\n",
              "      <td>Mild</td>\n",
              "      <td>No</td>\n",
              "      <td>No</td>\n",
              "      <td>No</td>\n",
              "      <td>&lt;1 Year</td>\n",
              "      <td>111 - 120</td>\n",
              "      <td>81 - 90</td>\n",
              "      <td>No</td>\n",
              "      <td>HYPERTENSION (Stage-1)</td>\n",
              "    </tr>\n",
              "    <tr>\n",
              "      <th>1</th>\n",
              "      <td>Female</td>\n",
              "      <td>18-34</td>\n",
              "      <td>Yes</td>\n",
              "      <td>No</td>\n",
              "      <td>No</td>\n",
              "      <td>Mild</td>\n",
              "      <td>No</td>\n",
              "      <td>No</td>\n",
              "      <td>No</td>\n",
              "      <td>&lt;1 Year</td>\n",
              "      <td>111 - 120</td>\n",
              "      <td>81 - 90</td>\n",
              "      <td>No</td>\n",
              "      <td>HYPERTENSION (Stage-1)</td>\n",
              "    </tr>\n",
              "    <tr>\n",
              "      <th>2</th>\n",
              "      <td>Male</td>\n",
              "      <td>35-50</td>\n",
              "      <td>Yes</td>\n",
              "      <td>No</td>\n",
              "      <td>No</td>\n",
              "      <td>Mild</td>\n",
              "      <td>No</td>\n",
              "      <td>No</td>\n",
              "      <td>No</td>\n",
              "      <td>&lt;1 Year</td>\n",
              "      <td>111 - 120</td>\n",
              "      <td>81 - 90</td>\n",
              "      <td>No</td>\n",
              "      <td>HYPERTENSION (Stage-1)</td>\n",
              "    </tr>\n",
              "    <tr>\n",
              "      <th>3</th>\n",
              "      <td>Female</td>\n",
              "      <td>35-50</td>\n",
              "      <td>Yes</td>\n",
              "      <td>No</td>\n",
              "      <td>No</td>\n",
              "      <td>Mild</td>\n",
              "      <td>No</td>\n",
              "      <td>No</td>\n",
              "      <td>No</td>\n",
              "      <td>&lt;1 Year</td>\n",
              "      <td>111 - 120</td>\n",
              "      <td>81 - 90</td>\n",
              "      <td>No</td>\n",
              "      <td>HYPERTENSION (Stage-1)</td>\n",
              "    </tr>\n",
              "    <tr>\n",
              "      <th>4</th>\n",
              "      <td>Male</td>\n",
              "      <td>51-64</td>\n",
              "      <td>Yes</td>\n",
              "      <td>No</td>\n",
              "      <td>No</td>\n",
              "      <td>Mild</td>\n",
              "      <td>No</td>\n",
              "      <td>No</td>\n",
              "      <td>No</td>\n",
              "      <td>&lt;1 Year</td>\n",
              "      <td>111 - 120</td>\n",
              "      <td>81 - 90</td>\n",
              "      <td>No</td>\n",
              "      <td>HYPERTENSION (Stage-1)</td>\n",
              "    </tr>\n",
              "  </tbody>\n",
              "</table>\n",
              "</div>\n",
              "    <div class=\"colab-df-buttons\">\n",
              "\n",
              "  <div class=\"colab-df-container\">\n",
              "    <button class=\"colab-df-convert\" onclick=\"convertToInteractive('df-b27ee697-0e6a-4800-bfd5-bad2aea3e091')\"\n",
              "            title=\"Convert this dataframe to an interactive table.\"\n",
              "            style=\"display:none;\">\n",
              "\n",
              "  <svg xmlns=\"http://www.w3.org/2000/svg\" height=\"24px\" viewBox=\"0 -960 960 960\">\n",
              "    <path d=\"M120-120v-720h720v720H120Zm60-500h600v-160H180v160Zm220 220h160v-160H400v160Zm0 220h160v-160H400v160ZM180-400h160v-160H180v160Zm440 0h160v-160H620v160ZM180-180h160v-160H180v160Zm440 0h160v-160H620v160Z\"/>\n",
              "  </svg>\n",
              "    </button>\n",
              "\n",
              "  <style>\n",
              "    .colab-df-container {\n",
              "      display:flex;\n",
              "      gap: 12px;\n",
              "    }\n",
              "\n",
              "    .colab-df-convert {\n",
              "      background-color: #E8F0FE;\n",
              "      border: none;\n",
              "      border-radius: 50%;\n",
              "      cursor: pointer;\n",
              "      display: none;\n",
              "      fill: #1967D2;\n",
              "      height: 32px;\n",
              "      padding: 0 0 0 0;\n",
              "      width: 32px;\n",
              "    }\n",
              "\n",
              "    .colab-df-convert:hover {\n",
              "      background-color: #E2EBFA;\n",
              "      box-shadow: 0px 1px 2px rgba(60, 64, 67, 0.3), 0px 1px 3px 1px rgba(60, 64, 67, 0.15);\n",
              "      fill: #174EA6;\n",
              "    }\n",
              "\n",
              "    .colab-df-buttons div {\n",
              "      margin-bottom: 4px;\n",
              "    }\n",
              "\n",
              "    [theme=dark] .colab-df-convert {\n",
              "      background-color: #3B4455;\n",
              "      fill: #D2E3FC;\n",
              "    }\n",
              "\n",
              "    [theme=dark] .colab-df-convert:hover {\n",
              "      background-color: #434B5C;\n",
              "      box-shadow: 0px 1px 3px 1px rgba(0, 0, 0, 0.15);\n",
              "      filter: drop-shadow(0px 1px 2px rgba(0, 0, 0, 0.3));\n",
              "      fill: #FFFFFF;\n",
              "    }\n",
              "  </style>\n",
              "\n",
              "    <script>\n",
              "      const buttonEl =\n",
              "        document.querySelector('#df-b27ee697-0e6a-4800-bfd5-bad2aea3e091 button.colab-df-convert');\n",
              "      buttonEl.style.display =\n",
              "        google.colab.kernel.accessAllowed ? 'block' : 'none';\n",
              "\n",
              "      async function convertToInteractive(key) {\n",
              "        const element = document.querySelector('#df-b27ee697-0e6a-4800-bfd5-bad2aea3e091');\n",
              "        const dataTable =\n",
              "          await google.colab.kernel.invokeFunction('convertToInteractive',\n",
              "                                                    [key], {});\n",
              "        if (!dataTable) return;\n",
              "\n",
              "        const docLinkHtml = 'Like what you see? Visit the ' +\n",
              "          '<a target=\"_blank\" href=https://colab.research.google.com/notebooks/data_table.ipynb>data table notebook</a>'\n",
              "          + ' to learn more about interactive tables.';\n",
              "        element.innerHTML = '';\n",
              "        dataTable['output_type'] = 'display_data';\n",
              "        await google.colab.output.renderOutput(dataTable, element);\n",
              "        const docLink = document.createElement('div');\n",
              "        docLink.innerHTML = docLinkHtml;\n",
              "        element.appendChild(docLink);\n",
              "      }\n",
              "    </script>\n",
              "  </div>\n",
              "\n",
              "\n",
              "    <div id=\"df-c6988b53-74ee-4776-8fe1-9ff4aae01df4\">\n",
              "      <button class=\"colab-df-quickchart\" onclick=\"quickchart('df-c6988b53-74ee-4776-8fe1-9ff4aae01df4')\"\n",
              "                title=\"Suggest charts\"\n",
              "                style=\"display:none;\">\n",
              "\n",
              "<svg xmlns=\"http://www.w3.org/2000/svg\" height=\"24px\"viewBox=\"0 0 24 24\"\n",
              "     width=\"24px\">\n",
              "    <g>\n",
              "        <path d=\"M19 3H5c-1.1 0-2 .9-2 2v14c0 1.1.9 2 2 2h14c1.1 0 2-.9 2-2V5c0-1.1-.9-2-2-2zM9 17H7v-7h2v7zm4 0h-2V7h2v10zm4 0h-2v-4h2v4z\"/>\n",
              "    </g>\n",
              "</svg>\n",
              "      </button>\n",
              "\n",
              "<style>\n",
              "  .colab-df-quickchart {\n",
              "      --bg-color: #E8F0FE;\n",
              "      --fill-color: #1967D2;\n",
              "      --hover-bg-color: #E2EBFA;\n",
              "      --hover-fill-color: #174EA6;\n",
              "      --disabled-fill-color: #AAA;\n",
              "      --disabled-bg-color: #DDD;\n",
              "  }\n",
              "\n",
              "  [theme=dark] .colab-df-quickchart {\n",
              "      --bg-color: #3B4455;\n",
              "      --fill-color: #D2E3FC;\n",
              "      --hover-bg-color: #434B5C;\n",
              "      --hover-fill-color: #FFFFFF;\n",
              "      --disabled-bg-color: #3B4455;\n",
              "      --disabled-fill-color: #666;\n",
              "  }\n",
              "\n",
              "  .colab-df-quickchart {\n",
              "    background-color: var(--bg-color);\n",
              "    border: none;\n",
              "    border-radius: 50%;\n",
              "    cursor: pointer;\n",
              "    display: none;\n",
              "    fill: var(--fill-color);\n",
              "    height: 32px;\n",
              "    padding: 0;\n",
              "    width: 32px;\n",
              "  }\n",
              "\n",
              "  .colab-df-quickchart:hover {\n",
              "    background-color: var(--hover-bg-color);\n",
              "    box-shadow: 0 1px 2px rgba(60, 64, 67, 0.3), 0 1px 3px 1px rgba(60, 64, 67, 0.15);\n",
              "    fill: var(--button-hover-fill-color);\n",
              "  }\n",
              "\n",
              "  .colab-df-quickchart-complete:disabled,\n",
              "  .colab-df-quickchart-complete:disabled:hover {\n",
              "    background-color: var(--disabled-bg-color);\n",
              "    fill: var(--disabled-fill-color);\n",
              "    box-shadow: none;\n",
              "  }\n",
              "\n",
              "  .colab-df-spinner {\n",
              "    border: 2px solid var(--fill-color);\n",
              "    border-color: transparent;\n",
              "    border-bottom-color: var(--fill-color);\n",
              "    animation:\n",
              "      spin 1s steps(1) infinite;\n",
              "  }\n",
              "\n",
              "  @keyframes spin {\n",
              "    0% {\n",
              "      border-color: transparent;\n",
              "      border-bottom-color: var(--fill-color);\n",
              "      border-left-color: var(--fill-color);\n",
              "    }\n",
              "    20% {\n",
              "      border-color: transparent;\n",
              "      border-left-color: var(--fill-color);\n",
              "      border-top-color: var(--fill-color);\n",
              "    }\n",
              "    30% {\n",
              "      border-color: transparent;\n",
              "      border-left-color: var(--fill-color);\n",
              "      border-top-color: var(--fill-color);\n",
              "      border-right-color: var(--fill-color);\n",
              "    }\n",
              "    40% {\n",
              "      border-color: transparent;\n",
              "      border-right-color: var(--fill-color);\n",
              "      border-top-color: var(--fill-color);\n",
              "    }\n",
              "    60% {\n",
              "      border-color: transparent;\n",
              "      border-right-color: var(--fill-color);\n",
              "    }\n",
              "    80% {\n",
              "      border-color: transparent;\n",
              "      border-right-color: var(--fill-color);\n",
              "      border-bottom-color: var(--fill-color);\n",
              "    }\n",
              "    90% {\n",
              "      border-color: transparent;\n",
              "      border-bottom-color: var(--fill-color);\n",
              "    }\n",
              "  }\n",
              "</style>\n",
              "\n",
              "      <script>\n",
              "        async function quickchart(key) {\n",
              "          const quickchartButtonEl =\n",
              "            document.querySelector('#' + key + ' button');\n",
              "          quickchartButtonEl.disabled = true;  // To prevent multiple clicks.\n",
              "          quickchartButtonEl.classList.add('colab-df-spinner');\n",
              "          try {\n",
              "            const charts = await google.colab.kernel.invokeFunction(\n",
              "                'suggestCharts', [key], {});\n",
              "          } catch (error) {\n",
              "            console.error('Error during call to suggestCharts:', error);\n",
              "          }\n",
              "          quickchartButtonEl.classList.remove('colab-df-spinner');\n",
              "          quickchartButtonEl.classList.add('colab-df-quickchart-complete');\n",
              "        }\n",
              "        (() => {\n",
              "          let quickchartButtonEl =\n",
              "            document.querySelector('#df-c6988b53-74ee-4776-8fe1-9ff4aae01df4 button');\n",
              "          quickchartButtonEl.style.display =\n",
              "            google.colab.kernel.accessAllowed ? 'block' : 'none';\n",
              "        })();\n",
              "      </script>\n",
              "    </div>\n",
              "\n",
              "    </div>\n",
              "  </div>\n"
            ],
            "application/vnd.google.colaboratory.intrinsic+json": {
              "type": "dataframe",
              "variable_name": "df",
              "summary": "{\n  \"name\": \"df\",\n  \"rows\": 1825,\n  \"fields\": [\n    {\n      \"column\": \"C\",\n      \"properties\": {\n        \"dtype\": \"category\",\n        \"num_unique_values\": 2,\n        \"samples\": [\n          \"Female\",\n          \"Male\"\n        ],\n        \"semantic_type\": \"\",\n        \"description\": \"\"\n      }\n    },\n    {\n      \"column\": \"Age\",\n      \"properties\": {\n        \"dtype\": \"category\",\n        \"num_unique_values\": 4,\n        \"samples\": [\n          \"35-50\",\n          \"65+\"\n        ],\n        \"semantic_type\": \"\",\n        \"description\": \"\"\n      }\n    },\n    {\n      \"column\": \"History\",\n      \"properties\": {\n        \"dtype\": \"category\",\n        \"num_unique_values\": 2,\n        \"samples\": [\n          \"No\",\n          \"Yes\"\n        ],\n        \"semantic_type\": \"\",\n        \"description\": \"\"\n      }\n    },\n    {\n      \"column\": \"Patient\",\n      \"properties\": {\n        \"dtype\": \"category\",\n        \"num_unique_values\": 2,\n        \"samples\": [\n          \"Yes\",\n          \"No\"\n        ],\n        \"semantic_type\": \"\",\n        \"description\": \"\"\n      }\n    },\n    {\n      \"column\": \"TakeMedication\",\n      \"properties\": {\n        \"dtype\": \"category\",\n        \"num_unique_values\": 3,\n        \"samples\": [\n          \"No\",\n          \"Yes \"\n        ],\n        \"semantic_type\": \"\",\n        \"description\": \"\"\n      }\n    },\n    {\n      \"column\": \"Severity\",\n      \"properties\": {\n        \"dtype\": \"category\",\n        \"num_unique_values\": 3,\n        \"samples\": [\n          \"Mild\",\n          \"Sever\"\n        ],\n        \"semantic_type\": \"\",\n        \"description\": \"\"\n      }\n    },\n    {\n      \"column\": \"BreathShortness\",\n      \"properties\": {\n        \"dtype\": \"category\",\n        \"num_unique_values\": 2,\n        \"samples\": [\n          \"Yes\",\n          \"No\"\n        ],\n        \"semantic_type\": \"\",\n        \"description\": \"\"\n      }\n    },\n    {\n      \"column\": \"VisualChanges\",\n      \"properties\": {\n        \"dtype\": \"category\",\n        \"num_unique_values\": 2,\n        \"samples\": [\n          \"Yes\",\n          \"No\"\n        ],\n        \"semantic_type\": \"\",\n        \"description\": \"\"\n      }\n    },\n    {\n      \"column\": \"NoseBleeding\",\n      \"properties\": {\n        \"dtype\": \"category\",\n        \"num_unique_values\": 3,\n        \"samples\": [\n          \"No \",\n          \"No\"\n        ],\n        \"semantic_type\": \"\",\n        \"description\": \"\"\n      }\n    },\n    {\n      \"column\": \"Whendiagnoused\",\n      \"properties\": {\n        \"dtype\": \"category\",\n        \"num_unique_values\": 3,\n        \"samples\": [\n          \"<1 Year\",\n          \"1 - 5 Years\"\n        ],\n        \"semantic_type\": \"\",\n        \"description\": \"\"\n      }\n    },\n    {\n      \"column\": \"Systolic\",\n      \"properties\": {\n        \"dtype\": \"category\",\n        \"num_unique_values\": 5,\n        \"samples\": [\n          \"121- 130\",\n          \"121 - 130\"\n        ],\n        \"semantic_type\": \"\",\n        \"description\": \"\"\n      }\n    },\n    {\n      \"column\": \"Diastolic\",\n      \"properties\": {\n        \"dtype\": \"category\",\n        \"num_unique_values\": 5,\n        \"samples\": [\n          \"91 - 100\",\n          \"70 - 80\"\n        ],\n        \"semantic_type\": \"\",\n        \"description\": \"\"\n      }\n    },\n    {\n      \"column\": \"ControlledDiet\",\n      \"properties\": {\n        \"dtype\": \"category\",\n        \"num_unique_values\": 2,\n        \"samples\": [\n          \"Yes\",\n          \"No\"\n        ],\n        \"semantic_type\": \"\",\n        \"description\": \"\"\n      }\n    },\n    {\n      \"column\": \"Stages\",\n      \"properties\": {\n        \"dtype\": \"category\",\n        \"num_unique_values\": 6,\n        \"samples\": [\n          \"HYPERTENSION (Stage-1)\",\n          \"HYPERTENSION (Stage-2)\"\n        ],\n        \"semantic_type\": \"\",\n        \"description\": \"\"\n      }\n    }\n  ]\n}"
            }
          },
          "metadata": {},
          "execution_count": 3
        }
      ]
    },
    {
      "cell_type": "code",
      "source": [
        "df.rename(columns={'C': 'Gender'}, inplace=True)"
      ],
      "metadata": {
        "id": "oif9DJm6IETA"
      },
      "execution_count": null,
      "outputs": []
    },
    {
      "cell_type": "markdown",
      "source": [
        "# M1A5"
      ],
      "metadata": {
        "id": "Iv3XdMzGJAk2"
      }
    },
    {
      "cell_type": "code",
      "source": [
        "df.info()"
      ],
      "metadata": {
        "colab": {
          "base_uri": "https://localhost:8080/"
        },
        "id": "XdZeOogLJITO",
        "outputId": "ee548553-794d-4642-e240-fa0c192ef040"
      },
      "execution_count": null,
      "outputs": [
        {
          "output_type": "stream",
          "name": "stdout",
          "text": [
            "<class 'pandas.core.frame.DataFrame'>\n",
            "RangeIndex: 1825 entries, 0 to 1824\n",
            "Data columns (total 14 columns):\n",
            " #   Column           Non-Null Count  Dtype \n",
            "---  ------           --------------  ----- \n",
            " 0   Gender           1825 non-null   object\n",
            " 1   Age              1825 non-null   object\n",
            " 2   History          1825 non-null   object\n",
            " 3   Patient          1825 non-null   object\n",
            " 4   TakeMedication   1825 non-null   object\n",
            " 5   Severity         1825 non-null   object\n",
            " 6   BreathShortness  1825 non-null   object\n",
            " 7   VisualChanges    1825 non-null   object\n",
            " 8   NoseBleeding     1825 non-null   object\n",
            " 9   Whendiagnoused   1825 non-null   object\n",
            " 10  Systolic         1825 non-null   object\n",
            " 11  Diastolic        1825 non-null   object\n",
            " 12  ControlledDiet   1825 non-null   object\n",
            " 13  Stages           1825 non-null   object\n",
            "dtypes: object(14)\n",
            "memory usage: 199.7+ KB\n"
          ]
        }
      ]
    },
    {
      "cell_type": "code",
      "source": [
        "df.shape"
      ],
      "metadata": {
        "colab": {
          "base_uri": "https://localhost:8080/"
        },
        "id": "WPssZFtBJV14",
        "outputId": "1890025e-193f-49bf-b6e3-1393d244fdef"
      },
      "execution_count": null,
      "outputs": [
        {
          "output_type": "execute_result",
          "data": {
            "text/plain": [
              "(1825, 14)"
            ]
          },
          "metadata": {},
          "execution_count": 6
        }
      ]
    },
    {
      "cell_type": "code",
      "source": [
        "df.isnull().sum()"
      ],
      "metadata": {
        "colab": {
          "base_uri": "https://localhost:8080/",
          "height": 523
        },
        "id": "NDUAWlZ5JeS6",
        "outputId": "000eceaa-76d0-4686-f62c-086af7c24960"
      },
      "execution_count": null,
      "outputs": [
        {
          "output_type": "execute_result",
          "data": {
            "text/plain": [
              "Gender             0\n",
              "Age                0\n",
              "History            0\n",
              "Patient            0\n",
              "TakeMedication     0\n",
              "Severity           0\n",
              "BreathShortness    0\n",
              "VisualChanges      0\n",
              "NoseBleeding       0\n",
              "Whendiagnoused     0\n",
              "Systolic           0\n",
              "Diastolic          0\n",
              "ControlledDiet     0\n",
              "Stages             0\n",
              "dtype: int64"
            ],
            "text/html": [
              "<div>\n",
              "<style scoped>\n",
              "    .dataframe tbody tr th:only-of-type {\n",
              "        vertical-align: middle;\n",
              "    }\n",
              "\n",
              "    .dataframe tbody tr th {\n",
              "        vertical-align: top;\n",
              "    }\n",
              "\n",
              "    .dataframe thead th {\n",
              "        text-align: right;\n",
              "    }\n",
              "</style>\n",
              "<table border=\"1\" class=\"dataframe\">\n",
              "  <thead>\n",
              "    <tr style=\"text-align: right;\">\n",
              "      <th></th>\n",
              "      <th>0</th>\n",
              "    </tr>\n",
              "  </thead>\n",
              "  <tbody>\n",
              "    <tr>\n",
              "      <th>Gender</th>\n",
              "      <td>0</td>\n",
              "    </tr>\n",
              "    <tr>\n",
              "      <th>Age</th>\n",
              "      <td>0</td>\n",
              "    </tr>\n",
              "    <tr>\n",
              "      <th>History</th>\n",
              "      <td>0</td>\n",
              "    </tr>\n",
              "    <tr>\n",
              "      <th>Patient</th>\n",
              "      <td>0</td>\n",
              "    </tr>\n",
              "    <tr>\n",
              "      <th>TakeMedication</th>\n",
              "      <td>0</td>\n",
              "    </tr>\n",
              "    <tr>\n",
              "      <th>Severity</th>\n",
              "      <td>0</td>\n",
              "    </tr>\n",
              "    <tr>\n",
              "      <th>BreathShortness</th>\n",
              "      <td>0</td>\n",
              "    </tr>\n",
              "    <tr>\n",
              "      <th>VisualChanges</th>\n",
              "      <td>0</td>\n",
              "    </tr>\n",
              "    <tr>\n",
              "      <th>NoseBleeding</th>\n",
              "      <td>0</td>\n",
              "    </tr>\n",
              "    <tr>\n",
              "      <th>Whendiagnoused</th>\n",
              "      <td>0</td>\n",
              "    </tr>\n",
              "    <tr>\n",
              "      <th>Systolic</th>\n",
              "      <td>0</td>\n",
              "    </tr>\n",
              "    <tr>\n",
              "      <th>Diastolic</th>\n",
              "      <td>0</td>\n",
              "    </tr>\n",
              "    <tr>\n",
              "      <th>ControlledDiet</th>\n",
              "      <td>0</td>\n",
              "    </tr>\n",
              "    <tr>\n",
              "      <th>Stages</th>\n",
              "      <td>0</td>\n",
              "    </tr>\n",
              "  </tbody>\n",
              "</table>\n",
              "</div><br><label><b>dtype:</b> int64</label>"
            ]
          },
          "metadata": {},
          "execution_count": 7
        }
      ]
    },
    {
      "cell_type": "markdown",
      "source": [
        "## M1A6"
      ],
      "metadata": {
        "id": "cUJrb0vL2emy"
      }
    },
    {
      "cell_type": "code",
      "source": [
        "from sklearn.preprocessing import LabelEncoder\n",
        "columns = ['Gender','Severity','History','Patient','TakeMedication','BreathShortness','VisualChanges','NoseBleeding','ControlledDiet','Stages']\n",
        "label_encoder = LabelEncoder()\n",
        "for col in columns:\n",
        "    df[col] = label_encoder.fit_transform(df[col])"
      ],
      "metadata": {
        "id": "cKhcaIKR2l-5"
      },
      "execution_count": null,
      "outputs": []
    },
    {
      "cell_type": "code",
      "source": [
        "df['Stages'].unique()"
      ],
      "metadata": {
        "colab": {
          "base_uri": "https://localhost:8080/"
        },
        "id": "lnb9Uk_V44sf",
        "outputId": "39f8ce79-17d9-4065-cbf0-0b6d72a79d7f"
      },
      "execution_count": null,
      "outputs": [
        {
          "output_type": "execute_result",
          "data": {
            "text/plain": [
              "array([0, 1, 2, 3])"
            ]
          },
          "metadata": {},
          "execution_count": 13
        }
      ]
    },
    {
      "cell_type": "code",
      "source": [
        "df = pd.read_csv('patient_data.csv')\n",
        "df['Stages'] = df['Stages'].replace({\n",
        "    'HYPERTENSION (Stage-2).': 'HYPERTENSION (Stage-2)',\n",
        "    'HYPERTENSIVE CRISI': 'HYPERTENSIVE CRISIS'\n",
        "})\n",
        "label_encoder = LabelEncoder()\n",
        "df['Stages'] = label_encoder.fit_transform(df['Stages'])\n"
      ],
      "metadata": {
        "id": "X1RGTHA15yms"
      },
      "execution_count": null,
      "outputs": []
    },
    {
      "cell_type": "code",
      "source": [
        "df = pd.read_csv('patient_data.csv')  # Fresh start\n",
        "print(df['Stages'].unique())          # Inspect raw labels"
      ],
      "metadata": {
        "colab": {
          "base_uri": "https://localhost:8080/"
        },
        "id": "K-k6Ijgm62Sp",
        "outputId": "57a856a1-3d6e-44a9-b6e2-3c6a2817b2d4"
      },
      "execution_count": null,
      "outputs": [
        {
          "output_type": "stream",
          "name": "stdout",
          "text": [
            "['HYPERTENSION (Stage-1)' 'HYPERTENSION (Stage-2)' 'HYPERTENSIVE CRISIS'\n",
            " 'HYPERTENSION (Stage-2).' 'HYPERTENSIVE CRISI' 'NORMAL']\n"
          ]
        }
      ]
    },
    {
      "cell_type": "code",
      "source": [
        "df['Stages'] = df['Stages'].replace({\n",
        "    'HYPERTENSION (Stage-2).': 'HYPERTENSION (Stage-2)',\n",
        "    'HYPERTENSIVE CRISI': 'HYPERTENSIVE CRISIS'\n",
        "})"
      ],
      "metadata": {
        "id": "Y3qJN3cf74DB"
      },
      "execution_count": null,
      "outputs": []
    },
    {
      "cell_type": "code",
      "source": [
        "df = pd.read_csv('patient_data.csv')   # Start fresh\n",
        "print(df['Stages'].unique())           # For labels\n",
        "df.info()                              # For dtype and non-null count\n"
      ],
      "metadata": {
        "colab": {
          "base_uri": "https://localhost:8080/"
        },
        "id": "P2sSSvlg8c1K",
        "outputId": "ab24820f-401d-4546-941a-a815f2d4b2a0"
      },
      "execution_count": null,
      "outputs": [
        {
          "output_type": "stream",
          "name": "stdout",
          "text": [
            "['HYPERTENSION (Stage-1)' 'HYPERTENSION (Stage-2)' 'HYPERTENSIVE CRISIS'\n",
            " 'HYPERTENSION (Stage-2).' 'HYPERTENSIVE CRISI' 'NORMAL']\n",
            "<class 'pandas.core.frame.DataFrame'>\n",
            "RangeIndex: 1825 entries, 0 to 1824\n",
            "Data columns (total 14 columns):\n",
            " #   Column           Non-Null Count  Dtype \n",
            "---  ------           --------------  ----- \n",
            " 0   C                1825 non-null   object\n",
            " 1   Age              1825 non-null   object\n",
            " 2   History          1825 non-null   object\n",
            " 3   Patient          1825 non-null   object\n",
            " 4   TakeMedication   1825 non-null   object\n",
            " 5   Severity         1825 non-null   object\n",
            " 6   BreathShortness  1825 non-null   object\n",
            " 7   VisualChanges    1825 non-null   object\n",
            " 8   NoseBleeding     1825 non-null   object\n",
            " 9   Whendiagnoused   1825 non-null   object\n",
            " 10  Systolic         1825 non-null   object\n",
            " 11  Diastolic        1825 non-null   object\n",
            " 12  ControlledDiet   1825 non-null   object\n",
            " 13  Stages           1825 non-null   object\n",
            "dtypes: object(14)\n",
            "memory usage: 199.7+ KB\n"
          ]
        }
      ]
    },
    {
      "cell_type": "markdown",
      "source": [
        "# M2A1"
      ],
      "metadata": {
        "id": "CO0xD0N39y--"
      }
    },
    {
      "cell_type": "code",
      "source": [
        "df.describe()"
      ],
      "metadata": {
        "colab": {
          "base_uri": "https://localhost:8080/",
          "height": 212
        },
        "id": "JVJLpGz59yXx",
        "outputId": "19c342ca-f795-4780-e7a8-5a563bc39fdb"
      },
      "execution_count": null,
      "outputs": [
        {
          "output_type": "execute_result",
          "data": {
            "text/plain": [
              "             C    Age History Patient TakeMedication  Severity  \\\n",
              "count     1825   1825    1825    1825           1825      1825   \n",
              "unique       2      4       2       2              3         3   \n",
              "top     Female  51-64     Yes      No             No  Moderate   \n",
              "freq       913    475    1657     984            744       697   \n",
              "\n",
              "       BreathShortness VisualChanges NoseBleeding Whendiagnoused   Systolic  \\\n",
              "count             1825          1825         1825           1825       1825   \n",
              "unique               2             2            3              3          5   \n",
              "top                 No            No          No         <1 Year  111 - 120   \n",
              "freq               976           940          984            625       1008   \n",
              "\n",
              "       Diastolic ControlledDiet                  Stages  \n",
              "count       1825           1825                    1825  \n",
              "unique         5              2                       6  \n",
              "top      81 - 90             No  HYPERTENSION (Stage-1)  \n",
              "freq         708            984                     648  "
            ],
            "text/html": [
              "\n",
              "  <div id=\"df-e44b5214-be6f-461f-ae11-691e5a99d05a\" class=\"colab-df-container\">\n",
              "    <div>\n",
              "<style scoped>\n",
              "    .dataframe tbody tr th:only-of-type {\n",
              "        vertical-align: middle;\n",
              "    }\n",
              "\n",
              "    .dataframe tbody tr th {\n",
              "        vertical-align: top;\n",
              "    }\n",
              "\n",
              "    .dataframe thead th {\n",
              "        text-align: right;\n",
              "    }\n",
              "</style>\n",
              "<table border=\"1\" class=\"dataframe\">\n",
              "  <thead>\n",
              "    <tr style=\"text-align: right;\">\n",
              "      <th></th>\n",
              "      <th>C</th>\n",
              "      <th>Age</th>\n",
              "      <th>History</th>\n",
              "      <th>Patient</th>\n",
              "      <th>TakeMedication</th>\n",
              "      <th>Severity</th>\n",
              "      <th>BreathShortness</th>\n",
              "      <th>VisualChanges</th>\n",
              "      <th>NoseBleeding</th>\n",
              "      <th>Whendiagnoused</th>\n",
              "      <th>Systolic</th>\n",
              "      <th>Diastolic</th>\n",
              "      <th>ControlledDiet</th>\n",
              "      <th>Stages</th>\n",
              "    </tr>\n",
              "  </thead>\n",
              "  <tbody>\n",
              "    <tr>\n",
              "      <th>count</th>\n",
              "      <td>1825</td>\n",
              "      <td>1825</td>\n",
              "      <td>1825</td>\n",
              "      <td>1825</td>\n",
              "      <td>1825</td>\n",
              "      <td>1825</td>\n",
              "      <td>1825</td>\n",
              "      <td>1825</td>\n",
              "      <td>1825</td>\n",
              "      <td>1825</td>\n",
              "      <td>1825</td>\n",
              "      <td>1825</td>\n",
              "      <td>1825</td>\n",
              "      <td>1825</td>\n",
              "    </tr>\n",
              "    <tr>\n",
              "      <th>unique</th>\n",
              "      <td>2</td>\n",
              "      <td>4</td>\n",
              "      <td>2</td>\n",
              "      <td>2</td>\n",
              "      <td>3</td>\n",
              "      <td>3</td>\n",
              "      <td>2</td>\n",
              "      <td>2</td>\n",
              "      <td>3</td>\n",
              "      <td>3</td>\n",
              "      <td>5</td>\n",
              "      <td>5</td>\n",
              "      <td>2</td>\n",
              "      <td>6</td>\n",
              "    </tr>\n",
              "    <tr>\n",
              "      <th>top</th>\n",
              "      <td>Female</td>\n",
              "      <td>51-64</td>\n",
              "      <td>Yes</td>\n",
              "      <td>No</td>\n",
              "      <td>No</td>\n",
              "      <td>Moderate</td>\n",
              "      <td>No</td>\n",
              "      <td>No</td>\n",
              "      <td>No</td>\n",
              "      <td>&lt;1 Year</td>\n",
              "      <td>111 - 120</td>\n",
              "      <td>81 - 90</td>\n",
              "      <td>No</td>\n",
              "      <td>HYPERTENSION (Stage-1)</td>\n",
              "    </tr>\n",
              "    <tr>\n",
              "      <th>freq</th>\n",
              "      <td>913</td>\n",
              "      <td>475</td>\n",
              "      <td>1657</td>\n",
              "      <td>984</td>\n",
              "      <td>744</td>\n",
              "      <td>697</td>\n",
              "      <td>976</td>\n",
              "      <td>940</td>\n",
              "      <td>984</td>\n",
              "      <td>625</td>\n",
              "      <td>1008</td>\n",
              "      <td>708</td>\n",
              "      <td>984</td>\n",
              "      <td>648</td>\n",
              "    </tr>\n",
              "  </tbody>\n",
              "</table>\n",
              "</div>\n",
              "    <div class=\"colab-df-buttons\">\n",
              "\n",
              "  <div class=\"colab-df-container\">\n",
              "    <button class=\"colab-df-convert\" onclick=\"convertToInteractive('df-e44b5214-be6f-461f-ae11-691e5a99d05a')\"\n",
              "            title=\"Convert this dataframe to an interactive table.\"\n",
              "            style=\"display:none;\">\n",
              "\n",
              "  <svg xmlns=\"http://www.w3.org/2000/svg\" height=\"24px\" viewBox=\"0 -960 960 960\">\n",
              "    <path d=\"M120-120v-720h720v720H120Zm60-500h600v-160H180v160Zm220 220h160v-160H400v160Zm0 220h160v-160H400v160ZM180-400h160v-160H180v160Zm440 0h160v-160H620v160ZM180-180h160v-160H180v160Zm440 0h160v-160H620v160Z\"/>\n",
              "  </svg>\n",
              "    </button>\n",
              "\n",
              "  <style>\n",
              "    .colab-df-container {\n",
              "      display:flex;\n",
              "      gap: 12px;\n",
              "    }\n",
              "\n",
              "    .colab-df-convert {\n",
              "      background-color: #E8F0FE;\n",
              "      border: none;\n",
              "      border-radius: 50%;\n",
              "      cursor: pointer;\n",
              "      display: none;\n",
              "      fill: #1967D2;\n",
              "      height: 32px;\n",
              "      padding: 0 0 0 0;\n",
              "      width: 32px;\n",
              "    }\n",
              "\n",
              "    .colab-df-convert:hover {\n",
              "      background-color: #E2EBFA;\n",
              "      box-shadow: 0px 1px 2px rgba(60, 64, 67, 0.3), 0px 1px 3px 1px rgba(60, 64, 67, 0.15);\n",
              "      fill: #174EA6;\n",
              "    }\n",
              "\n",
              "    .colab-df-buttons div {\n",
              "      margin-bottom: 4px;\n",
              "    }\n",
              "\n",
              "    [theme=dark] .colab-df-convert {\n",
              "      background-color: #3B4455;\n",
              "      fill: #D2E3FC;\n",
              "    }\n",
              "\n",
              "    [theme=dark] .colab-df-convert:hover {\n",
              "      background-color: #434B5C;\n",
              "      box-shadow: 0px 1px 3px 1px rgba(0, 0, 0, 0.15);\n",
              "      filter: drop-shadow(0px 1px 2px rgba(0, 0, 0, 0.3));\n",
              "      fill: #FFFFFF;\n",
              "    }\n",
              "  </style>\n",
              "\n",
              "    <script>\n",
              "      const buttonEl =\n",
              "        document.querySelector('#df-e44b5214-be6f-461f-ae11-691e5a99d05a button.colab-df-convert');\n",
              "      buttonEl.style.display =\n",
              "        google.colab.kernel.accessAllowed ? 'block' : 'none';\n",
              "\n",
              "      async function convertToInteractive(key) {\n",
              "        const element = document.querySelector('#df-e44b5214-be6f-461f-ae11-691e5a99d05a');\n",
              "        const dataTable =\n",
              "          await google.colab.kernel.invokeFunction('convertToInteractive',\n",
              "                                                    [key], {});\n",
              "        if (!dataTable) return;\n",
              "\n",
              "        const docLinkHtml = 'Like what you see? Visit the ' +\n",
              "          '<a target=\"_blank\" href=https://colab.research.google.com/notebooks/data_table.ipynb>data table notebook</a>'\n",
              "          + ' to learn more about interactive tables.';\n",
              "        element.innerHTML = '';\n",
              "        dataTable['output_type'] = 'display_data';\n",
              "        await google.colab.output.renderOutput(dataTable, element);\n",
              "        const docLink = document.createElement('div');\n",
              "        docLink.innerHTML = docLinkHtml;\n",
              "        element.appendChild(docLink);\n",
              "      }\n",
              "    </script>\n",
              "  </div>\n",
              "\n",
              "\n",
              "    <div id=\"df-e98c7cfd-dee8-4668-8d73-176bd5b0a50f\">\n",
              "      <button class=\"colab-df-quickchart\" onclick=\"quickchart('df-e98c7cfd-dee8-4668-8d73-176bd5b0a50f')\"\n",
              "                title=\"Suggest charts\"\n",
              "                style=\"display:none;\">\n",
              "\n",
              "<svg xmlns=\"http://www.w3.org/2000/svg\" height=\"24px\"viewBox=\"0 0 24 24\"\n",
              "     width=\"24px\">\n",
              "    <g>\n",
              "        <path d=\"M19 3H5c-1.1 0-2 .9-2 2v14c0 1.1.9 2 2 2h14c1.1 0 2-.9 2-2V5c0-1.1-.9-2-2-2zM9 17H7v-7h2v7zm4 0h-2V7h2v10zm4 0h-2v-4h2v4z\"/>\n",
              "    </g>\n",
              "</svg>\n",
              "      </button>\n",
              "\n",
              "<style>\n",
              "  .colab-df-quickchart {\n",
              "      --bg-color: #E8F0FE;\n",
              "      --fill-color: #1967D2;\n",
              "      --hover-bg-color: #E2EBFA;\n",
              "      --hover-fill-color: #174EA6;\n",
              "      --disabled-fill-color: #AAA;\n",
              "      --disabled-bg-color: #DDD;\n",
              "  }\n",
              "\n",
              "  [theme=dark] .colab-df-quickchart {\n",
              "      --bg-color: #3B4455;\n",
              "      --fill-color: #D2E3FC;\n",
              "      --hover-bg-color: #434B5C;\n",
              "      --hover-fill-color: #FFFFFF;\n",
              "      --disabled-bg-color: #3B4455;\n",
              "      --disabled-fill-color: #666;\n",
              "  }\n",
              "\n",
              "  .colab-df-quickchart {\n",
              "    background-color: var(--bg-color);\n",
              "    border: none;\n",
              "    border-radius: 50%;\n",
              "    cursor: pointer;\n",
              "    display: none;\n",
              "    fill: var(--fill-color);\n",
              "    height: 32px;\n",
              "    padding: 0;\n",
              "    width: 32px;\n",
              "  }\n",
              "\n",
              "  .colab-df-quickchart:hover {\n",
              "    background-color: var(--hover-bg-color);\n",
              "    box-shadow: 0 1px 2px rgba(60, 64, 67, 0.3), 0 1px 3px 1px rgba(60, 64, 67, 0.15);\n",
              "    fill: var(--button-hover-fill-color);\n",
              "  }\n",
              "\n",
              "  .colab-df-quickchart-complete:disabled,\n",
              "  .colab-df-quickchart-complete:disabled:hover {\n",
              "    background-color: var(--disabled-bg-color);\n",
              "    fill: var(--disabled-fill-color);\n",
              "    box-shadow: none;\n",
              "  }\n",
              "\n",
              "  .colab-df-spinner {\n",
              "    border: 2px solid var(--fill-color);\n",
              "    border-color: transparent;\n",
              "    border-bottom-color: var(--fill-color);\n",
              "    animation:\n",
              "      spin 1s steps(1) infinite;\n",
              "  }\n",
              "\n",
              "  @keyframes spin {\n",
              "    0% {\n",
              "      border-color: transparent;\n",
              "      border-bottom-color: var(--fill-color);\n",
              "      border-left-color: var(--fill-color);\n",
              "    }\n",
              "    20% {\n",
              "      border-color: transparent;\n",
              "      border-left-color: var(--fill-color);\n",
              "      border-top-color: var(--fill-color);\n",
              "    }\n",
              "    30% {\n",
              "      border-color: transparent;\n",
              "      border-left-color: var(--fill-color);\n",
              "      border-top-color: var(--fill-color);\n",
              "      border-right-color: var(--fill-color);\n",
              "    }\n",
              "    40% {\n",
              "      border-color: transparent;\n",
              "      border-right-color: var(--fill-color);\n",
              "      border-top-color: var(--fill-color);\n",
              "    }\n",
              "    60% {\n",
              "      border-color: transparent;\n",
              "      border-right-color: var(--fill-color);\n",
              "    }\n",
              "    80% {\n",
              "      border-color: transparent;\n",
              "      border-right-color: var(--fill-color);\n",
              "      border-bottom-color: var(--fill-color);\n",
              "    }\n",
              "    90% {\n",
              "      border-color: transparent;\n",
              "      border-bottom-color: var(--fill-color);\n",
              "    }\n",
              "  }\n",
              "</style>\n",
              "\n",
              "      <script>\n",
              "        async function quickchart(key) {\n",
              "          const quickchartButtonEl =\n",
              "            document.querySelector('#' + key + ' button');\n",
              "          quickchartButtonEl.disabled = true;  // To prevent multiple clicks.\n",
              "          quickchartButtonEl.classList.add('colab-df-spinner');\n",
              "          try {\n",
              "            const charts = await google.colab.kernel.invokeFunction(\n",
              "                'suggestCharts', [key], {});\n",
              "          } catch (error) {\n",
              "            console.error('Error during call to suggestCharts:', error);\n",
              "          }\n",
              "          quickchartButtonEl.classList.remove('colab-df-spinner');\n",
              "          quickchartButtonEl.classList.add('colab-df-quickchart-complete');\n",
              "        }\n",
              "        (() => {\n",
              "          let quickchartButtonEl =\n",
              "            document.querySelector('#df-e98c7cfd-dee8-4668-8d73-176bd5b0a50f button');\n",
              "          quickchartButtonEl.style.display =\n",
              "            google.colab.kernel.accessAllowed ? 'block' : 'none';\n",
              "        })();\n",
              "      </script>\n",
              "    </div>\n",
              "\n",
              "    </div>\n",
              "  </div>\n"
            ],
            "application/vnd.google.colaboratory.intrinsic+json": {
              "type": "dataframe",
              "summary": "{\n  \"name\": \"df\",\n  \"rows\": 4,\n  \"fields\": [\n    {\n      \"column\": \"C\",\n      \"properties\": {\n        \"dtype\": \"string\",\n        \"num_unique_values\": 4,\n        \"samples\": [\n          2,\n          \"913\",\n          \"1825\"\n        ],\n        \"semantic_type\": \"\",\n        \"description\": \"\"\n      }\n    },\n    {\n      \"column\": \"Age\",\n      \"properties\": {\n        \"dtype\": \"string\",\n        \"num_unique_values\": 4,\n        \"samples\": [\n          4,\n          \"475\",\n          \"1825\"\n        ],\n        \"semantic_type\": \"\",\n        \"description\": \"\"\n      }\n    },\n    {\n      \"column\": \"History\",\n      \"properties\": {\n        \"dtype\": \"string\",\n        \"num_unique_values\": 4,\n        \"samples\": [\n          2,\n          \"1657\",\n          \"1825\"\n        ],\n        \"semantic_type\": \"\",\n        \"description\": \"\"\n      }\n    },\n    {\n      \"column\": \"Patient\",\n      \"properties\": {\n        \"dtype\": \"string\",\n        \"num_unique_values\": 4,\n        \"samples\": [\n          2,\n          \"984\",\n          \"1825\"\n        ],\n        \"semantic_type\": \"\",\n        \"description\": \"\"\n      }\n    },\n    {\n      \"column\": \"TakeMedication\",\n      \"properties\": {\n        \"dtype\": \"string\",\n        \"num_unique_values\": 4,\n        \"samples\": [\n          3,\n          \"744\",\n          \"1825\"\n        ],\n        \"semantic_type\": \"\",\n        \"description\": \"\"\n      }\n    },\n    {\n      \"column\": \"Severity\",\n      \"properties\": {\n        \"dtype\": \"string\",\n        \"num_unique_values\": 4,\n        \"samples\": [\n          3,\n          \"697\",\n          \"1825\"\n        ],\n        \"semantic_type\": \"\",\n        \"description\": \"\"\n      }\n    },\n    {\n      \"column\": \"BreathShortness\",\n      \"properties\": {\n        \"dtype\": \"string\",\n        \"num_unique_values\": 4,\n        \"samples\": [\n          2,\n          \"976\",\n          \"1825\"\n        ],\n        \"semantic_type\": \"\",\n        \"description\": \"\"\n      }\n    },\n    {\n      \"column\": \"VisualChanges\",\n      \"properties\": {\n        \"dtype\": \"string\",\n        \"num_unique_values\": 4,\n        \"samples\": [\n          2,\n          \"940\",\n          \"1825\"\n        ],\n        \"semantic_type\": \"\",\n        \"description\": \"\"\n      }\n    },\n    {\n      \"column\": \"NoseBleeding\",\n      \"properties\": {\n        \"dtype\": \"string\",\n        \"num_unique_values\": 4,\n        \"samples\": [\n          3,\n          \"984\",\n          \"1825\"\n        ],\n        \"semantic_type\": \"\",\n        \"description\": \"\"\n      }\n    },\n    {\n      \"column\": \"Whendiagnoused\",\n      \"properties\": {\n        \"dtype\": \"string\",\n        \"num_unique_values\": 4,\n        \"samples\": [\n          3,\n          \"625\",\n          \"1825\"\n        ],\n        \"semantic_type\": \"\",\n        \"description\": \"\"\n      }\n    },\n    {\n      \"column\": \"Systolic\",\n      \"properties\": {\n        \"dtype\": \"string\",\n        \"num_unique_values\": 4,\n        \"samples\": [\n          5,\n          \"1008\",\n          \"1825\"\n        ],\n        \"semantic_type\": \"\",\n        \"description\": \"\"\n      }\n    },\n    {\n      \"column\": \"Diastolic\",\n      \"properties\": {\n        \"dtype\": \"string\",\n        \"num_unique_values\": 4,\n        \"samples\": [\n          5,\n          \"708\",\n          \"1825\"\n        ],\n        \"semantic_type\": \"\",\n        \"description\": \"\"\n      }\n    },\n    {\n      \"column\": \"ControlledDiet\",\n      \"properties\": {\n        \"dtype\": \"string\",\n        \"num_unique_values\": 4,\n        \"samples\": [\n          2,\n          \"984\",\n          \"1825\"\n        ],\n        \"semantic_type\": \"\",\n        \"description\": \"\"\n      }\n    },\n    {\n      \"column\": \"Stages\",\n      \"properties\": {\n        \"dtype\": \"string\",\n        \"num_unique_values\": 4,\n        \"samples\": [\n          6,\n          \"648\",\n          \"1825\"\n        ],\n        \"semantic_type\": \"\",\n        \"description\": \"\"\n      }\n    }\n  ]\n}"
            }
          },
          "metadata": {},
          "execution_count": 22
        }
      ]
    },
    {
      "cell_type": "markdown",
      "source": [
        "# M2A3"
      ],
      "metadata": {
        "id": "yE1Ftq_6-Q2x"
      }
    },
    {
      "cell_type": "code",
      "source": [
        "# Reload and clean data\n",
        "df = pd.read_csv('patient_data.csv')\n",
        "df.rename(columns={'C': 'Gender'}, inplace=True)\n",
        "\n",
        "# Clean 'Gender' entries\n",
        "df['Gender'] = df['Gender'].str.strip().str.replace('\\xa0', '', regex=True).str.upper()\n",
        "\n",
        "# Now count and plot\n",
        "gender_counts = df['Gender'].value_counts()\n",
        "plt.pie(gender_counts, labels=gender_counts.index, autopct='%1.1f%%', startangle=140)\n",
        "plt.title('Gender Distribution')\n",
        "plt.axis('equal')\n",
        "plt.show()\n"
      ],
      "metadata": {
        "colab": {
          "base_uri": "https://localhost:8080/",
          "height": 428
        },
        "id": "6y4jt70pOep3",
        "outputId": "cdad247e-8f1b-4a49-d59a-b08b3ba98662"
      },
      "execution_count": null,
      "outputs": [
        {
          "output_type": "display_data",
          "data": {
            "text/plain": [
              "<Figure size 640x480 with 1 Axes>"
            ],
            "image/png": "[encoded data removed]"
          },
          "metadata": {}
        }
      ]
    },
    {
      "cell_type": "code",
      "source": [
        "frequency = df['Stages'].value_counts()\n",
        "\n",
        "# Widen the figure to avoid label collisions\n",
        "plt.figure(figsize=(10,6))\n",
        "\n",
        "# Create bar chart\n",
        "plt.bar(frequency.index, frequency.values)\n",
        "\n",
        "# Rotate x-labels for clarity\n",
        "plt.xticks(rotation=45, ha='right')  # ha = horizontal alignment\n",
        "\n",
        "# Add labels and title\n",
        "plt.xlabel('Stages')\n",
        "plt.ylabel('Frequency')\n",
        "plt.title('Count of stages')\n",
        "plt.tight_layout()  # Prevents cutoff\n",
        "plt.show()\n"
      ],
      "metadata": {
        "colab": {
          "base_uri": "https://localhost:8080/",
          "height": 599
        },
        "id": "xubtZEdNO8mx",
        "outputId": "07685a37-cf7a-4da3-fa6e-9bcd31eaaf8d"
      },
      "execution_count": null,
      "outputs": [
        {
          "output_type": "display_data",
          "data": {
            "text/plain": [
              "<Figure size 1000x600 with 1 Axes>"
            ],
            "image/png": "[encoded data removed]"
          },
          "metadata": {}
        }
      ]
    },
    {
      "cell_type": "markdown",
      "source": [
        "# M2A4"
      ],
      "metadata": {
        "id": "Hiu5TEd9Rbsl"
      }
    },
    {
      "cell_type": "code",
      "source": [
        "plt.figure(figsize=(8,6))\n",
        "sns.countplot(x='TakeMedication', hue='Severity', data=df, palette='Purples')\n",
        "\n",
        "plt.title('Count plot of TakeMedication by Severity')\n",
        "plt.xlabel('Medication Status')\n",
        "plt.ylabel('Count')\n",
        "plt.legend(title='Severity')\n",
        "plt.tight_layout()\n",
        "plt.show()"
      ],
      "metadata": {
        "colab": {
          "base_uri": "https://localhost:8080/",
          "height": 607
        },
        "id": "6BVGvIQ2Rd5D",
        "outputId": "af461906-77f5-455f-b88f-1cddf3394124"
      },
      "execution_count": null,
      "outputs": [
        {
          "output_type": "display_data",
          "data": {
            "text/plain": [
              "<Figure size 800x600 with 1 Axes>"
            ],
            "image/png": "[encoded data removed]"
          },
          "metadata": {}
        }
      ]
    },
    {
      "cell_type": "markdown",
      "source": [
        "# M2A5"
      ],
      "metadata": {
        "id": "UmuYxRtlSGTC"
      }
    },
    {
      "cell_type": "code",
      "source": [
        "# Step 1: Load your dataset\n",
        "df = pd.read_csv('patient_data.csv')\n",
        "\n",
        "# ✅ Step 2: Clean and convert the range strings into numbers\n",
        "import re\n",
        "\n",
        "def clean_text(val):\n",
        "    val = str(val)\n",
        "    val = val.encode('ascii', 'ignore').decode()  # remove hidden unicode\n",
        "    val = re.sub(r'\\s+', '', val)                # remove all whitespace\n",
        "    val = val.strip()                            # trim edges\n",
        "    return val\n",
        "\n",
        "def parse_range(val):\n",
        "    val = clean_text(val)\n",
        "    if '-' in val:\n",
        "        parts = val.split('-')\n",
        "        if len(parts) == 2:\n",
        "            return (float(parts[0]) + float(parts[1])) / 2\n",
        "    elif '+' in val:\n",
        "        base = float(val.replace('+', ''))\n",
        "        return base + 5  # Estimated midpoint\n",
        "    try:\n",
        "        return float(val)\n",
        "    except:\n",
        "        return None\n",
        "\n",
        "# Step 3: Apply parsing to numeric columns\n",
        "df['Age_num'] = df['Age'].apply(parse_range)\n",
        "df['Systolic_num'] = df['Systolic'].apply(parse_range)\n",
        "df['Diastolic_num'] = df['Diastolic'].apply(parse_range)\n",
        "\n",
        "# Step 4: Drop invalid rows and visualize\n",
        "numeric_df = df[['Age_num', 'Systolic_num', 'Diastolic_num']].dropna()\n",
        "print(\"Cleaned DataFrame shape:\", numeric_df.shape)\n",
        "\n",
        "if not numeric_df.empty:\n",
        "    sns.pairplot(numeric_df, diag_kind='hist')\n",
        "    plt.suptitle('Pairplot of Age, Systolic and Diastolic (Numeric)', y=1.02)\n",
        "    plt.show()\n",
        "else:\n",
        "    print(\"⚠️ Still no usable data after parsing.\")\n"
      ],
      "metadata": {
        "colab": {
          "base_uri": "https://localhost:8080/",
          "height": 805
        },
        "id": "6sFxe2CxV6DK",
        "outputId": "7f3dbded-528d-447a-dda9-65f152074360"
      },
      "execution_count": null,
      "outputs": [
        {
          "output_type": "stream",
          "name": "stdout",
          "text": [
            "Cleaned DataFrame shape: (1825, 3)\n"
          ]
        },
        {
          "output_type": "display_data",
          "data": {
            "text/plain": [
              "<Figure size 750x750 with 12 Axes>"
            ],
            "image/png": "[encoded data removed]"
          },
          "metadata": {}
        }
      ]
    },
    {
      "cell_type": "code",
      "source": [
        "# ─── Data Load & One-Shot Cleaning for Model Training ───\n",
        "\n",
        "import pandas as pd\n",
        "import numpy as np\n",
        "import re\n",
        "from sklearn.preprocessing import LabelEncoder\n",
        "\n",
        "# 1) Load raw data exactly once\n",
        "raw_df = pd.read_csv('patient_data.csv', dtype=str)\n",
        "df = raw_df.copy()\n",
        "\n",
        "# 2) Rename C → Gender\n",
        "df.rename(columns={'C': 'Gender'}, inplace=True)\n",
        "\n",
        "# 3) Utility to strip whitespace & hidden unicode\n",
        "def clean_text(val):\n",
        "    v = str(val)\n",
        "    v = v.encode('ascii', 'ignore').decode()      # drop non-ASCII\n",
        "    v = re.sub(r'\\s+', '', v)                     # remove all whitespace\n",
        "    return v.strip()\n",
        "\n",
        "# 4) Parse binned ranges into numeric midpoints\n",
        "def parse_range(val):\n",
        "    v = clean_text(val)\n",
        "    if '-' in v and v.count('-') == 1:\n",
        "        low, high = v.split('-')\n",
        "        return (float(low) + float(high)) / 2\n",
        "    if '+' in v:\n",
        "        base = float(v.replace('+',''))\n",
        "        return base + 5   # estimated midpoint\n",
        "    try:\n",
        "        return float(v)\n",
        "    except:\n",
        "        return np.nan\n",
        "\n",
        "for col in ['Age', 'Systolic', 'Diastolic']:\n",
        "    df[col + '_num'] = df[col].apply(parse_range)\n",
        "\n",
        "# 5) Parse your diagnosis date (if needed)\n",
        "df['Whendiagnoused'] = pd.to_datetime(df['Whendiagnoused'], errors='coerce')\n",
        "\n",
        "# 6) Label-encode all remaining categoricals\n",
        "cat_cols = [\n",
        "    'Gender', 'History', 'Patient', 'TakeMedication',\n",
        "    'Severity', 'BreathShortness', 'VisualChanges',\n",
        "    'NoseBleeding', 'ControlledDiet', 'Stages'\n",
        "]\n",
        "le = LabelEncoder()\n",
        "for col in cat_cols:\n",
        "    df[col] = le.fit_transform(df[col].astype(str))\n",
        "\n",
        "# 7) Drop any rows missing our newly numeric columns\n",
        "df_clean = df.dropna(subset=['Age_num', 'Systolic_num', 'Diastolic_num']).reset_index(drop=True)\n",
        "\n",
        "# df_clean is now your one-and-done DataFrame for modeling\n",
        "print(\"Clean data ready:\", df_clean.shape)\n"
      ],
      "metadata": {
        "colab": {
          "base_uri": "https://localhost:8080/"
        },
        "id": "nYKQe_MIY4jk",
        "outputId": "ae5330b5-66fb-44ac-aea5-a0f0f96ac2ea"
      },
      "execution_count": null,
      "outputs": [
        {
          "output_type": "stream",
          "name": "stdout",
          "text": [
            "Clean data ready: (1825, 17)\n"
          ]
        },
        {
          "output_type": "stream",
          "name": "stderr",
          "text": [
            "/tmp/ipython-input-41-3879683901.py:40: UserWarning: Could not infer format, so each element will be parsed individually, falling back to `dateutil`. To ensure parsing is consistent and as-expected, please specify a format.\n",
            "  df['Whendiagnoused'] = pd.to_datetime(df['Whendiagnoused'], errors='coerce')\n"
          ]
        }
      ]
    },
    {
      "cell_type": "markdown",
      "source": [
        "# M3A2"
      ],
      "metadata": {
        "id": "BQYF9S3PbfDI"
      }
    },
    {
      "cell_type": "code",
      "source": [
        "from sklearn.linear_model import LogisticRegression\n",
        "from sklearn.model_selection import train_test_split\n",
        "from sklearn.metrics import accuracy_score, classification_report\n",
        "\n",
        "# Step 1: Define features and target\n",
        "features = [\n",
        "    'Age_num', 'Systolic_num', 'Diastolic_num',\n",
        "    'Gender', 'History', 'Patient', 'TakeMedication',\n",
        "    'Severity', 'BreathShortness', 'VisualChanges',\n",
        "    'NoseBleeding', 'ControlledDiet'\n",
        "]\n",
        "\n",
        "target = 'Stages'  # Already label encoded\n",
        "\n",
        "X = df_clean[features]\n",
        "y = df_clean[target]\n",
        "\n",
        "# Step 2: Train-test split\n",
        "X_train, X_test, y_train, y_test = train_test_split(\n",
        "    X, y, test_size=0.2, random_state=42\n",
        ")\n",
        "\n",
        "# Step 3: Initialize and train model\n",
        "model_lr = LogisticRegression(max_iter=10000)\n",
        "model_lr.fit(X_train, y_train)\n",
        "\n",
        "# Step 4: Predict and evaluate\n",
        "y_pred = model_lr.predict(X_test)\n",
        "\n",
        "acc_lr = accuracy_score(y_test, y_pred)\n",
        "c_lr = classification_report(y_test, y_pred)\n",
        "\n",
        "print(\"✅ Accuracy Score:\", acc_lr)\n",
        "print(\"✅ Classification Report:\\n\", c_lr)\n"
      ],
      "metadata": {
        "colab": {
          "base_uri": "https://localhost:8080/"
        },
        "id": "9SSdwxizbha0",
        "outputId": "ec3f6af6-3f12-4931-e7a4-8a9f2e04c0cb"
      },
      "execution_count": null,
      "outputs": [
        {
          "output_type": "stream",
          "name": "stdout",
          "text": [
            "✅ Accuracy Score: 1.0\n",
            "✅ Classification Report:\n",
            "               precision    recall  f1-score   support\n",
            "\n",
            "           0       1.00      1.00      1.00       139\n",
            "           1       1.00      1.00      1.00       120\n",
            "           4       1.00      1.00      1.00        46\n",
            "           5       1.00      1.00      1.00        60\n",
            "\n",
            "    accuracy                           1.00       365\n",
            "   macro avg       1.00      1.00      1.00       365\n",
            "weighted avg       1.00      1.00      1.00       365\n",
            "\n"
          ]
        }
      ]
    },
    {
      "cell_type": "markdown",
      "source": [
        "# M3A3"
      ],
      "metadata": {
        "id": "0d8jYgskdEde"
      }
    },
    {
      "cell_type": "code",
      "source": [
        "from sklearn.ensemble import RandomForestClassifier\n",
        "from sklearn.model_selection import train_test_split\n",
        "from sklearn.metrics import accuracy_score, classification_report\n",
        "from sklearn.preprocessing import StandardScaler\n",
        "\n",
        "# Step 1: Select features and target\n",
        "features = [\n",
        "    'Age_num', 'Systolic_num', 'Diastolic_num',\n",
        "    'Gender', 'History', 'Patient', 'TakeMedication',\n",
        "    'Severity', 'BreathShortness', 'VisualChanges',\n",
        "    'NoseBleeding', 'ControlledDiet'\n",
        "]\n",
        "target = 'Stages'  # Already label encoded\n",
        "\n",
        "X = df_clean[features]\n",
        "y = df_clean[target]\n",
        "\n",
        "# Step 2: Scale the features\n",
        "scaler = StandardScaler()\n",
        "X_scaled = scaler.fit_transform(X)\n",
        "\n",
        "# Step 3: Train-test split\n",
        "X_train, X_test, y_train, y_test = train_test_split(\n",
        "    X_scaled, y, test_size=0.2, random_state=42\n",
        ")\n",
        "\n",
        "# Step 4: Initialize and train model\n",
        "model_rf = RandomForestClassifier(n_estimators=100, random_state=42)\n",
        "model_rf.fit(X_train, y_train)\n",
        "\n",
        "# Step 5: Predict and evaluate\n",
        "y_pred = model_rf.predict(X_test)\n",
        "\n",
        "acc_rf = accuracy_score(y_test, y_pred)\n",
        "c_rf = classification_report(y_test, y_pred)\n",
        "\n",
        "print(\"🌳 Random Forest Accuracy:\", acc_rf)\n",
        "print(\"🌳 Classification Report:\\n\", c_rf)\n"
      ],
      "metadata": {
        "colab": {
          "base_uri": "https://localhost:8080/"
        },
        "id": "sHXwNIaedG6s",
        "outputId": "1c94bd59-81e6-4d50-d7e5-f22b9f9f9a4a"
      },
      "execution_count": null,
      "outputs": [
        {
          "output_type": "stream",
          "name": "stdout",
          "text": [
            "🌳 Random Forest Accuracy: 1.0\n",
            "🌳 Classification Report:\n",
            "               precision    recall  f1-score   support\n",
            "\n",
            "           0       1.00      1.00      1.00       139\n",
            "           1       1.00      1.00      1.00       120\n",
            "           4       1.00      1.00      1.00        46\n",
            "           5       1.00      1.00      1.00        60\n",
            "\n",
            "    accuracy                           1.00       365\n",
            "   macro avg       1.00      1.00      1.00       365\n",
            "weighted avg       1.00      1.00      1.00       365\n",
            "\n"
          ]
        }
      ]
    },
    {
      "cell_type": "markdown",
      "source": [
        "# M3A4"
      ],
      "metadata": {
        "id": "2_Zzs0hOds6v"
      }
    },
    {
      "cell_type": "code",
      "source": [
        "from sklearn.tree import DecisionTreeClassifier\n",
        "from sklearn.model_selection import train_test_split\n",
        "from sklearn.metrics import accuracy_score, classification_report\n",
        "from sklearn.preprocessing import StandardScaler\n",
        "\n",
        "# Step 1: Define features and target\n",
        "features = [\n",
        "    'Age_num', 'Systolic_num', 'Diastolic_num',\n",
        "    'Gender', 'History', 'Patient', 'TakeMedication',\n",
        "    'Severity', 'BreathShortness', 'VisualChanges',\n",
        "    'NoseBleeding', 'ControlledDiet'\n",
        "]\n",
        "target = 'Stages'\n",
        "\n",
        "X = df_clean[features]\n",
        "y = df_clean[target]\n",
        "\n",
        "# Step 2: Standardize feature values\n",
        "scaler = StandardScaler()\n",
        "X_scaled = scaler.fit_transform(X)\n",
        "\n",
        "# Step 3: Train-test split\n",
        "X_train, X_test, y_train, y_test = train_test_split(\n",
        "    X_scaled, y, test_size=0.2, random_state=42\n",
        ")\n",
        "\n",
        "# Step 4: Initialize and train Decision Tree\n",
        "model_dt = DecisionTreeClassifier(random_state=42)\n",
        "model_dt.fit(X_train, y_train)\n",
        "\n",
        "# Step 5: Predict and evaluate\n",
        "y_pred = model_dt.predict(X_test)\n",
        "\n",
        "acc_dt = accuracy_score(y_test, y_pred)\n",
        "c_dt = classification_report(y_test, y_pred)\n",
        "\n",
        "print(\"🌲 Decision Tree Accuracy:\", acc_dt)\n",
        "print(\"🌲 Classification Report:\\n\", c_dt)\n"
      ],
      "metadata": {
        "colab": {
          "base_uri": "https://localhost:8080/"
        },
        "id": "ZJXIm4vfdvfi",
        "outputId": "126ee28f-7d7f-40ab-d217-e8a3a738ab4a"
      },
      "execution_count": null,
      "outputs": [
        {
          "output_type": "stream",
          "name": "stdout",
          "text": [
            "🌲 Decision Tree Accuracy: 0.9972602739726028\n",
            "🌲 Classification Report:\n",
            "               precision    recall  f1-score   support\n",
            "\n",
            "           0       1.00      1.00      1.00       139\n",
            "           1       1.00      1.00      1.00       120\n",
            "           3       0.00      0.00      0.00         0\n",
            "           4       1.00      0.98      0.99        46\n",
            "           5       1.00      1.00      1.00        60\n",
            "\n",
            "    accuracy                           1.00       365\n",
            "   macro avg       0.80      0.80      0.80       365\n",
            "weighted avg       1.00      1.00      1.00       365\n",
            "\n"
          ]
        },
        {
          "output_type": "stream",
          "name": "stderr",
          "text": [
            "/usr/local/lib/python3.11/dist-packages/sklearn/metrics/_classification.py:1565: UndefinedMetricWarning: Recall is ill-defined and being set to 0.0 in labels with no true samples. Use `zero_division` parameter to control this behavior.\n",
            "  _warn_prf(average, modifier, f\"{metric.capitalize()} is\", len(result))\n",
            "/usr/local/lib/python3.11/dist-packages/sklearn/metrics/_classification.py:1565: UndefinedMetricWarning: Recall is ill-defined and being set to 0.0 in labels with no true samples. Use `zero_division` parameter to control this behavior.\n",
            "  _warn_prf(average, modifier, f\"{metric.capitalize()} is\", len(result))\n",
            "/usr/local/lib/python3.11/dist-packages/sklearn/metrics/_classification.py:1565: UndefinedMetricWarning: Recall is ill-defined and being set to 0.0 in labels with no true samples. Use `zero_division` parameter to control this behavior.\n",
            "  _warn_prf(average, modifier, f\"{metric.capitalize()} is\", len(result))\n"
          ]
        }
      ]
    },
    {
      "cell_type": "markdown",
      "source": [
        "# M3A5"
      ],
      "metadata": {
        "id": "9H4iINCAecc0"
      }
    },
    {
      "cell_type": "code",
      "source": [
        "from sklearn.naive_bayes import GaussianNB\n",
        "from sklearn.model_selection import train_test_split\n",
        "from sklearn.metrics import accuracy_score, classification_report\n",
        "from sklearn.preprocessing import StandardScaler\n",
        "\n",
        "# Step 1: Select features and target\n",
        "features = [\n",
        "    'Age_num', 'Systolic_num', 'Diastolic_num',\n",
        "    'Gender', 'History', 'Patient', 'TakeMedication',\n",
        "    'Severity', 'BreathShortness', 'VisualChanges',\n",
        "    'NoseBleeding', 'ControlledDiet'\n",
        "]\n",
        "target = 'Stages'\n",
        "\n",
        "X = df_clean[features]\n",
        "y = df_clean[target]\n",
        "\n",
        "# Step 2: Standardize features\n",
        "scaler = StandardScaler()\n",
        "X_scaled = scaler.fit_transform(X)\n",
        "\n",
        "# Step 3: Train-test split\n",
        "X_train, X_test, y_train, y_test = train_test_split(\n",
        "    X_scaled, y, test_size=0.2, random_state=42\n",
        ")\n",
        "\n",
        "# Step 4: Train Gaussian Naive Bayes model\n",
        "model_gnb = GaussianNB()\n",
        "model_gnb.fit(X_train, y_train)\n",
        "\n",
        "# Step 5: Predict and evaluate\n",
        "y_pred = model_gnb.predict(X_test)\n",
        "\n",
        "acc_gnb = accuracy_score(y_test, y_pred)\n",
        "c_gnb = classification_report(y_test, y_pred)\n",
        "\n",
        "print(\"🧠 GaussianNB Accuracy:\", acc_gnb)\n",
        "print(\"🧠 Classification Report:\\n\", c_gnb)\n"
      ],
      "metadata": {
        "colab": {
          "base_uri": "https://localhost:8080/"
        },
        "id": "vaYSBosqefI-",
        "outputId": "521d2a20-51e8-427a-c625-785956e4054c"
      },
      "execution_count": null,
      "outputs": [
        {
          "output_type": "stream",
          "name": "stdout",
          "text": [
            "🧠 GaussianNB Accuracy: 0.9972602739726028\n",
            "🧠 Classification Report:\n",
            "               precision    recall  f1-score   support\n",
            "\n",
            "           0       1.00      1.00      1.00       139\n",
            "           1       1.00      1.00      1.00       120\n",
            "           3       0.00      0.00      0.00         0\n",
            "           4       1.00      0.98      0.99        46\n",
            "           5       1.00      1.00      1.00        60\n",
            "\n",
            "    accuracy                           1.00       365\n",
            "   macro avg       0.80      0.80      0.80       365\n",
            "weighted avg       1.00      1.00      1.00       365\n",
            "\n"
          ]
        },
        {
          "output_type": "stream",
          "name": "stderr",
          "text": [
            "/usr/local/lib/python3.11/dist-packages/sklearn/metrics/_classification.py:1565: UndefinedMetricWarning: Recall is ill-defined and being set to 0.0 in labels with no true samples. Use `zero_division` parameter to control this behavior.\n",
            "  _warn_prf(average, modifier, f\"{metric.capitalize()} is\", len(result))\n",
            "/usr/local/lib/python3.11/dist-packages/sklearn/metrics/_classification.py:1565: UndefinedMetricWarning: Recall is ill-defined and being set to 0.0 in labels with no true samples. Use `zero_division` parameter to control this behavior.\n",
            "  _warn_prf(average, modifier, f\"{metric.capitalize()} is\", len(result))\n",
            "/usr/local/lib/python3.11/dist-packages/sklearn/metrics/_classification.py:1565: UndefinedMetricWarning: Recall is ill-defined and being set to 0.0 in labels with no true samples. Use `zero_division` parameter to control this behavior.\n",
            "  _warn_prf(average, modifier, f\"{metric.capitalize()} is\", len(result))\n"
          ]
        }
      ]
    },
    {
      "cell_type": "markdown",
      "source": [
        "# M3A6"
      ],
      "metadata": {
        "id": "wHftssp6fAhR"
      }
    },
    {
      "cell_type": "code",
      "source": [
        "from sklearn.naive_bayes import MultinomialNB\n",
        "from sklearn.model_selection import train_test_split\n",
        "from sklearn.metrics import accuracy_score, classification_report\n",
        "from sklearn.preprocessing import MinMaxScaler\n",
        "\n",
        "# Step 1: Select features and target\n",
        "features = [\n",
        "    'Age_num', 'Systolic_num', 'Diastolic_num',\n",
        "    'Gender', 'History', 'Patient', 'TakeMedication',\n",
        "    'Severity', 'BreathShortness', 'VisualChanges',\n",
        "    'NoseBleeding', 'ControlledDiet'\n",
        "]\n",
        "target = 'Stages'\n",
        "\n",
        "X = df_clean[features]\n",
        "y = df_clean[target]\n",
        "\n",
        "# 🔄 Step 2: Scale features to non-negative range using MinMaxScaler\n",
        "scaler = MinMaxScaler()\n",
        "X_scaled = scaler.fit_transform(X)\n",
        "\n",
        "# 🧪 Step 3: Train-test split\n",
        "X_train, X_test, y_train, y_test = train_test_split(\n",
        "    X_scaled, y, test_size=0.2, random_state=42\n",
        ")\n",
        "\n",
        "# 🌟 Step 4: Initialize and train MultinomialNB\n",
        "model_mnb = MultinomialNB()\n",
        "model_mnb.fit(X_train, y_train)\n",
        "\n",
        "# 📈 Step 5: Predict and evaluate\n",
        "y_pred = model_mnb.predict(X_test)\n",
        "\n",
        "acc_mnb = accuracy_score(y_test, y_pred)\n",
        "c_mnb = classification_report(y_test, y_pred, zero_division=0)\n",
        "\n",
        "print(\"📦 MultinomialNB Accuracy:\", acc_mnb)\n",
        "print(\"📦 Classification Report:\\n\", c_mnb)\n"
      ],
      "metadata": {
        "colab": {
          "base_uri": "https://localhost:8080/"
        },
        "id": "l-VKidM4fDG3",
        "outputId": "4c6253aa-c115-416d-d548-784710fed53b"
      },
      "execution_count": null,
      "outputs": [
        {
          "output_type": "stream",
          "name": "stdout",
          "text": [
            "📦 MultinomialNB Accuracy: 0.7917808219178082\n",
            "📦 Classification Report:\n",
            "               precision    recall  f1-score   support\n",
            "\n",
            "           0       0.82      1.00      0.90       139\n",
            "           1       0.72      1.00      0.84       120\n",
            "           4       0.00      0.00      0.00        46\n",
            "           5       1.00      0.50      0.67        60\n",
            "\n",
            "    accuracy                           0.79       365\n",
            "   macro avg       0.64      0.62      0.60       365\n",
            "weighted avg       0.72      0.79      0.73       365\n",
            "\n"
          ]
        }
      ]
    },
    {
      "cell_type": "markdown",
      "source": [
        "# M3A7"
      ],
      "metadata": {
        "id": "KK0-li9Af0Vm"
      }
    },
    {
      "cell_type": "code",
      "source": [
        "import numpy as np\n",
        "import pandas as pd\n",
        "from sklearn.preprocessing import StandardScaler\n",
        "from sklearn.ensemble import RandomForestClassifier\n",
        "\n",
        "# --- ASSUMPTIONS:\n",
        "# 1) df_clean is your fully preprocessed DataFrame\n",
        "# 2) model_rf is your trained RandomForestClassifier\n",
        "# 3) label_encoder is the LabelEncoder you used on df_clean['Stages']\n",
        "\n",
        "# Step 1: Define the feature order\n",
        "feature_cols = [\n",
        "    'Age_num', 'Systolic_num', 'Diastolic_num',\n",
        "    'Gender', 'History', 'Patient', 'TakeMedication',\n",
        "    'Severity', 'BreathShortness', 'VisualChanges',\n",
        "    'NoseBleeding', 'ControlledDiet'\n",
        "]\n",
        "\n",
        "# Step 2: Re-fit your scaler on the entire training set\n",
        "scaler = StandardScaler()\n",
        "scaler.fit(df_clean[feature_cols])\n",
        "\n",
        "# Step 3: Build your “new patient” record\n",
        "# Replace these values with whatever you want to test:\n",
        "# [Age_num, Systolic_num, Diastolic_num, Gender, History, Patient,\n",
        "#  TakeMedication, Severity, BreathShortness, VisualChanges,\n",
        "#  NoseBleeding, ControlledDiet]\n",
        "new_record = np.array([[\n",
        "    45,     # Age_num\n",
        "    130,    # Systolic_num\n",
        "    85,     # Diastolic_num\n",
        "    1,      # Gender (e.g. 0=F, 1=M)\n",
        "    0,      # History\n",
        "    1,      # Patient\n",
        "    0,      # TakeMedication\n",
        "    2,      # Severity\n",
        "    0,      # BreathShortness\n",
        "    0,      # VisualChanges\n",
        "    0,      # NoseBleeding\n",
        "    1       # ControlledDiet\n",
        "]])\n",
        "\n",
        "# Step 4: Scale and predict\n",
        "new_scaled = scaler.transform(new_record)\n",
        "pred_code = model_rf.predict(new_scaled)[0]\n",
        "\n",
        "# Step 5: Decode back to the original stage label\n",
        "pred_label = label_encoder.inverse_transform([pred_code])[0]\n",
        "\n",
        "print(f\"Predicted numeric stage code: {pred_code}\")\n",
        "print(f\"Predicted stage label: {pred_label}\")\n"
      ],
      "metadata": {
        "colab": {
          "base_uri": "https://localhost:8080/"
        },
        "id": "z4EeXzrvf3IO",
        "outputId": "52932ec2-eed9-4358-aa3b-af44f58ff29e"
      },
      "execution_count": null,
      "outputs": [
        {
          "output_type": "stream",
          "name": "stdout",
          "text": [
            "Predicted numeric stage code: 1\n",
            "Predicted stage label: HYPERTENSION (Stage-2)\n"
          ]
        },
        {
          "output_type": "stream",
          "name": "stderr",
          "text": [
            "/usr/local/lib/python3.11/dist-packages/sklearn/utils/validation.py:2739: UserWarning: X does not have valid feature names, but StandardScaler was fitted with feature names\n",
            "  warnings.warn(\n"
          ]
        }
      ]
    },
    {
      "cell_type": "markdown",
      "source": [
        "# M4A1"
      ],
      "metadata": {
        "id": "J0VF21QzinAb"
      }
    },
    {
      "cell_type": "code",
      "source": [
        "# ─── Milestone 4: Performance Testing & Model Comparison ───\n",
        "\n",
        "import pandas as pd\n",
        "from sklearn.metrics import accuracy_score, classification_report\n",
        "\n",
        "# 1) Gather your trained models into a dict\n",
        "models = {\n",
        "    \"Logistic Regression\":    model_lr,\n",
        "    \"Decision Tree\":          model_dt,\n",
        "    \"Random Forest\":          model_rf,\n",
        "    \"Gaussian Naive Bayes\":   model_gnb,\n",
        "    \"Multinomial Naive Bayes\": model_mnb\n",
        "}\n",
        "\n",
        "# 2) Evaluate each model on the same test set\n",
        "results = []\n",
        "for name, model in models.items():\n",
        "    y_pred = model.predict(X_test)\n",
        "\n",
        "    # compute accuracy\n",
        "    acc = accuracy_score(y_test, y_pred)\n",
        "    results.append({\"Model\": name, \"Accuracy\": acc})\n",
        "\n",
        "    # print the full classification report\n",
        "    print(f\"--- {name} Classification Report ---\")\n",
        "    print(classification_report(y_test, y_pred, zero_division=0))\n",
        "    print(\"\\n\" + \"-\"*60 + \"\\n\")\n",
        "\n",
        "# 3) Build a DataFrame to compare accuracies\n",
        "performance_df = pd.DataFrame(results).sort_values(\n",
        "    by=\"Accuracy\", ascending=False\n",
        ").reset_index(drop=True)\n",
        "\n",
        "print(\"Model Accuracy Comparison:\\n\")\n",
        "print(performance_df)\n"
      ],
      "metadata": {
        "colab": {
          "base_uri": "https://localhost:8080/"
        },
        "id": "atKslQhKipt_",
        "outputId": "17e365a2-994e-4b97-f387-da100a728519"
      },
      "execution_count": null,
      "outputs": [
        {
          "output_type": "stream",
          "name": "stdout",
          "text": [
            "--- Logistic Regression Classification Report ---\n",
            "              precision    recall  f1-score   support\n",
            "\n",
            "           0       0.00      0.00      0.00       139\n",
            "           1       0.00      0.00      0.00       120\n",
            "           4       0.00      0.00      0.00        46\n",
            "           5       0.16      1.00      0.28        60\n",
            "\n",
            "    accuracy                           0.16       365\n",
            "   macro avg       0.04      0.25      0.07       365\n",
            "weighted avg       0.03      0.16      0.05       365\n",
            "\n",
            "\n",
            "------------------------------------------------------------\n",
            "\n",
            "--- Decision Tree Classification Report ---\n",
            "              precision    recall  f1-score   support\n",
            "\n",
            "           0       0.70      1.00      0.82       139\n",
            "           1       1.00      1.00      1.00       120\n",
            "           3       0.00      0.00      0.00         0\n",
            "           4       1.00      0.96      0.98        46\n",
            "           5       0.00      0.00      0.00        60\n",
            "\n",
            "    accuracy                           0.83       365\n",
            "   macro avg       0.54      0.59      0.56       365\n",
            "weighted avg       0.72      0.83      0.77       365\n",
            "\n",
            "\n",
            "------------------------------------------------------------\n",
            "\n",
            "--- Random Forest Classification Report ---\n",
            "              precision    recall  f1-score   support\n",
            "\n",
            "           0       0.70      1.00      0.82       139\n",
            "           1       1.00      1.00      1.00       120\n",
            "           4       1.00      1.00      1.00        46\n",
            "           5       0.00      0.00      0.00        60\n",
            "\n",
            "    accuracy                           0.84       365\n",
            "   macro avg       0.67      0.75      0.71       365\n",
            "weighted avg       0.72      0.84      0.77       365\n",
            "\n",
            "\n",
            "------------------------------------------------------------\n",
            "\n",
            "--- Gaussian Naive Bayes Classification Report ---\n",
            "              precision    recall  f1-score   support\n",
            "\n",
            "           0       0.70      1.00      0.82       139\n",
            "           1       1.00      1.00      1.00       120\n",
            "           4       1.00      1.00      1.00        46\n",
            "           5       0.00      0.00      0.00        60\n",
            "\n",
            "    accuracy                           0.84       365\n",
            "   macro avg       0.67      0.75      0.71       365\n",
            "weighted avg       0.72      0.84      0.77       365\n",
            "\n",
            "\n",
            "------------------------------------------------------------\n",
            "\n",
            "--- Multinomial Naive Bayes Classification Report ---\n",
            "              precision    recall  f1-score   support\n",
            "\n",
            "           0       0.82      1.00      0.90       139\n",
            "           1       0.72      1.00      0.84       120\n",
            "           4       0.00      0.00      0.00        46\n",
            "           5       1.00      0.50      0.67        60\n",
            "\n",
            "    accuracy                           0.79       365\n",
            "   macro avg       0.64      0.62      0.60       365\n",
            "weighted avg       0.72      0.79      0.73       365\n",
            "\n",
            "\n",
            "------------------------------------------------------------\n",
            "\n",
            "Model Accuracy Comparison:\n",
            "\n",
            "                     Model  Accuracy\n",
            "0            Random Forest  0.835616\n",
            "1     Gaussian Naive Bayes  0.835616\n",
            "2            Decision Tree  0.830137\n",
            "3  Multinomial Naive Bayes  0.791781\n",
            "4      Logistic Regression  0.164384\n"
          ]
        },
        {
          "output_type": "stream",
          "name": "stderr",
          "text": [
            "/usr/local/lib/python3.11/dist-packages/sklearn/utils/validation.py:2739: UserWarning: X does not have valid feature names, but LogisticRegression was fitted with feature names\n",
            "  warnings.warn(\n"
          ]
        }
      ]
    },
    {
      "cell_type": "markdown",
      "source": [
        "# M5A1"
      ],
      "metadata": {
        "id": "On-x2qsDj4pO"
      }
    },
    {
      "cell_type": "code",
      "source": [
        "# ─── Save Random Forest Model Using Pickle ───\n",
        "\n",
        "import pickle\n",
        "\n",
        "# Customize the filename and protocol as needed\n",
        "filename = 'best_random_forest_model.pkl'\n",
        "with open(filename, 'wb') as file:\n",
        "    pickle.dump(model_rf, file)\n",
        "\n",
        "print(f\"✅ Model saved successfully as '{filename}' using pickle.\")\n"
      ],
      "metadata": {
        "colab": {
          "base_uri": "https://localhost:8080/"
        },
        "id": "G__BIPz0j8cx",
        "outputId": "e601abb8-ea50-41f9-b82d-a43e27519040"
      },
      "execution_count": null,
      "outputs": [
        {
          "output_type": "stream",
          "name": "stdout",
          "text": [
            "✅ Model saved successfully as 'best_random_forest_model.pkl' using pickle.\n"
          ]
        }
      ]
    },
    {
      "cell_type": "code",
      "source": [
        "# ─── Download the Saved Pickle File ───\n",
        "\n",
        "from google.colab import files\n",
        "\n",
        "files.download('best_random_forest_model.pkl')\n"
      ],
      "metadata": {
        "colab": {
          "base_uri": "https://localhost:8080/",
          "height": 17
        },
        "id": "bKUMwFqEk46C",
        "outputId": "485bff0e-2d54-4e85-f57d-898726246739"
      },
      "execution_count": null,
      "outputs": [
        {
          "output_type": "display_data",
          "data": {
            "text/plain": [
              "<IPython.core.display.Javascript object>"
            ],
            "application/javascript": [
              "\n",
              "    async function download(id, filename, size) {\n",
              "      if (!google.colab.kernel.accessAllowed) {\n",
              "        return;\n",
              "      }\n",
              "      const div = document.createElement('div');\n",
              "      const label = document.createElement('label');\n",
              "      label.textContent = `Downloading \"${filename}\": `;\n",
              "      div.appendChild(label);\n",
              "      const progress = document.createElement('progress');\n",
              "      progress.max = size;\n",
              "      div.appendChild(progress);\n",
              "      document.body.appendChild(div);\n",
              "\n",
              "      const buffers = [];\n",
              "      let downloaded = 0;\n",
              "\n",
              "      const channel = await google.colab.kernel.comms.open(id);\n",
              "      // Send a message to notify the kernel that we're ready.\n",
              "      channel.send({})\n",
              "\n",
              "      for await (const message of channel.messages) {\n",
              "        // Send a message to notify the kernel that we're ready.\n",
              "        channel.send({})\n",
              "        if (message.buffers) {\n",
              "          for (const buffer of message.buffers) {\n",
              "            buffers.push(buffer);\n",
              "            downloaded += buffer.byteLength;\n",
              "            progress.value = downloaded;\n",
              "          }\n",
              "        }\n",
              "      }\n",
              "      const blob = new Blob(buffers, {type: 'application/binary'});\n",
              "      const a = document.createElement('a');\n",
              "      a.href = window.URL.createObjectURL(blob);\n",
              "      a.download = filename;\n",
              "      div.appendChild(a);\n",
              "      a.click();\n",
              "      div.remove();\n",
              "    }\n",
              "  "
            ]
          },
          "metadata": {}
        },
        {
          "output_type": "display_data",
          "data": {
            "text/plain": [
              "<IPython.core.display.Javascript object>"
            ],
            "application/javascript": [
              "download(\"download_06d60c70-ba83-48c4-af92-5dd01ad590c6\", \"best_random_forest_model.pkl\", 406424)"
            ]
          },
          "metadata": {}
        }
      ]
    }
  ]
}